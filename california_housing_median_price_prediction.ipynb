{
 "cells": [
  {
   "cell_type": "markdown",
   "metadata": {},
   "source": [
    "## Prediction of district's median housing price"
   ]
  },
  {
   "cell_type": "markdown",
   "metadata": {},
   "source": [
    "### Fetching the data"
   ]
  },
  {
   "cell_type": "code",
   "execution_count": 1,
   "metadata": {},
   "outputs": [],
   "source": [
    "import os, io\n",
    "import tarfile\n",
    "import requests\n",
    "import hashlib"
   ]
  },
  {
   "cell_type": "code",
   "execution_count": 2,
   "metadata": {},
   "outputs": [],
   "source": [
    "DOWNLOAD_ROOT = \"https://raw.githubusercontent.com/ageron/handson-ml/master/\"\n",
    "HOUSING_PATH = os.path.join(\"datasets\", \"housing\")\n",
    "HOUSING_URL = DOWNLOAD_ROOT+\"datasets/housing/housing.tgz\"\n",
    "\n",
    "def fetch_housing_data(housing_url=HOUSING_URL, housing_path=HOUSING_PATH):\n",
    "    if not os.path.isdir(housing_path):\n",
    "        os.makedirs(housing_path)\n",
    "    tgz_path = os.path.join(housing_path, \"housing.tgz\")\n",
    "    response = requests.get(housing_url)\n",
    "    with open(tgz_path, 'wb') as f:\n",
    "        f.write(response.content)\n",
    "    housing_tgz = tarfile.open(tgz_path)\n",
    "    housing_tgz.extractall(path=housing_path)\n",
    "    housing_tgz.close()    "
   ]
  },
  {
   "cell_type": "code",
   "execution_count": null,
   "metadata": {},
   "outputs": [],
   "source": [
    "#fetch_housing_data()"
   ]
  },
  {
   "cell_type": "code",
   "execution_count": null,
   "metadata": {},
   "outputs": [],
   "source": [
    "os.listdir(HOUSING_PATH)"
   ]
  },
  {
   "cell_type": "code",
   "execution_count": 7,
   "metadata": {},
   "outputs": [],
   "source": [
    "import pandas as pd\n",
    "import seaborn as sns\n",
    "import matplotlib.pyplot as plt\n",
    "from sklearn.model_selection import StratifiedShuffleSplit"
   ]
  },
  {
   "cell_type": "code",
   "execution_count": 4,
   "metadata": {},
   "outputs": [],
   "source": [
    "def load_housing_data(housing_path=HOUSING_PATH):\n",
    "    csv_path = os.path.join(housing_path, 'housing.csv')\n",
    "    return pd.read_csv(csv_path)"
   ]
  },
  {
   "cell_type": "code",
   "execution_count": null,
   "metadata": {},
   "outputs": [],
   "source": [
    "housing = load_housing_data()\n",
    "housing.head()"
   ]
  },
  {
   "cell_type": "code",
   "execution_count": null,
   "metadata": {},
   "outputs": [],
   "source": [
    "housing.info()"
   ]
  },
  {
   "cell_type": "code",
   "execution_count": null,
   "metadata": {},
   "outputs": [],
   "source": [
    "housing.isnull().sum().sort_values(ascending=False)"
   ]
  },
  {
   "cell_type": "code",
   "execution_count": null,
   "metadata": {},
   "outputs": [],
   "source": [
    "housing['ocean_proximity'].value_counts()"
   ]
  },
  {
   "cell_type": "code",
   "execution_count": null,
   "metadata": {},
   "outputs": [],
   "source": [
    "housing.describe()"
   ]
  },
  {
   "cell_type": "code",
   "execution_count": null,
   "metadata": {
    "scrolled": false
   },
   "outputs": [],
   "source": [
    "sns.set()\n",
    "sns.set_style(\"whitegrid\")\n",
    "#sns.plotting_context()\n",
    "fig, ax = plt.subplots(figsize=(20,20))\n",
    "sns.set_context(\"notebook\", rc={\"font.size\":20,\"axes.titlesize\":20,\"axes.labelsize\":20,\"xtick.labelsize\":20,\"ytick.labelsize\":20})\n",
    "plt.subplot(331) # rows, ncols, fignum\n",
    "sns.distplot(housing['housing_median_age'], kde=False)\n",
    "plt.subplot(332)\n",
    "sns.distplot(housing['total_rooms'], kde=False)\n",
    "plt.subplot(333)\n",
    "#sns.distplot(housing['total_bedrooms'])\n",
    "plt.subplot(334)\n",
    "sns.distplot(housing['population'], kde=False)\n",
    "plt.subplot(335)\n",
    "sns.distplot(housing['households'], kde=False)\n",
    "plt.subplot(336)\n",
    "sns.distplot(housing['median_income'], kde=False)\n",
    "plt.subplot(337)\n",
    "sns.distplot(housing['median_house_value'], kde=False)\n",
    "plt.xticks(rotation=90) \n",
    "plt.tight_layout()"
   ]
  },
  {
   "cell_type": "code",
   "execution_count": 5,
   "metadata": {},
   "outputs": [],
   "source": [
    "import numpy as np"
   ]
  },
  {
   "cell_type": "code",
   "execution_count": 6,
   "metadata": {},
   "outputs": [],
   "source": [
    "def split_train_test(data, test_ratio=0.2):\n",
    "    np.random.seed(5)\n",
    "    shuffle_indices = np.random.permutation(len(data))\n",
    "    test_set_size = int(len(data)*test_ratio)\n",
    "    test_indices = shuffle_indices[:test_set_size]\n",
    "    train_indices = shuffle_indices[test_set_size:]\n",
    "    return data.iloc[train_indices], data.iloc[test_indices]\n",
    "\n",
    "def test_set_check(identifier, test_ratio, hash):\n",
    "    return hash(np.int64(identifier)).digest()[-1]<256*test_ratio\n",
    "\n",
    "def split_train_test_by_id(data, test_ratio, id_column, hash=hashlib.md5):\n",
    "    ids = data[id_column]\n",
    "    in_test_set = ids.apply(lambda id_: test_set_check(id_, test_ratio, hash))\n",
    "    return data.loc[~in_test_set], data.loc[in_test_set]"
   ]
  },
  {
   "cell_type": "code",
   "execution_count": null,
   "metadata": {},
   "outputs": [],
   "source": [
    "train_set, test_set = split_train_test(housing, 0.2)"
   ]
  },
  {
   "cell_type": "code",
   "execution_count": null,
   "metadata": {},
   "outputs": [],
   "source": [
    "display(train_set.shape)\n",
    "display(test_set.shape)\n",
    "type(train_set)"
   ]
  },
  {
   "cell_type": "markdown",
   "metadata": {},
   "source": [
    "### add id column using index"
   ]
  },
  {
   "cell_type": "code",
   "execution_count": null,
   "metadata": {},
   "outputs": [],
   "source": [
    "housing_with_id = housing.reset_index()\n",
    "housing_with_id.head()"
   ]
  },
  {
   "cell_type": "code",
   "execution_count": null,
   "metadata": {},
   "outputs": [],
   "source": [
    "train_set, test_set = split_train_test_by_id(housing_with_id, 0.2, \"index\")\n",
    "display(train_set.shape)\n",
    "display(test_set.shape)"
   ]
  },
  {
   "cell_type": "code",
   "execution_count": null,
   "metadata": {},
   "outputs": [],
   "source": [
    "housing['income_cat'] = np.ceil(housing[\"median_income\"] / 1.5)\n",
    "housing['income_cat'].where(housing['income_cat']<5, 5.0, inplace=True)\n",
    "housing.head()"
   ]
  },
  {
   "cell_type": "code",
   "execution_count": null,
   "metadata": {},
   "outputs": [],
   "source": [
    "split = StratifiedShuffleSplit(n_splits=1, test_size=0.2, random_state=5)\n",
    "for train_index, test_index in split.split(housing, housing['income_cat']):\n",
    "    strat_train_set = housing.loc[train_index]\n",
    "    strat_test_set = housing.loc[test_index]"
   ]
  },
  {
   "cell_type": "code",
   "execution_count": null,
   "metadata": {
    "scrolled": true
   },
   "outputs": [],
   "source": [
    "strat_test_set['income_cat'].value_counts()/len(strat_test_set)"
   ]
  },
  {
   "cell_type": "code",
   "execution_count": null,
   "metadata": {
    "scrolled": true
   },
   "outputs": [],
   "source": [
    "housing['income_cat'].value_counts()/len(housing)"
   ]
  },
  {
   "cell_type": "code",
   "execution_count": null,
   "metadata": {},
   "outputs": [],
   "source": [
    "### remove 'income_cat' so that data is back to normal after split\n",
    "for set_ in (strat_train_set, strat_test_set):\n",
    "    set_.drop('income_cat', axis=1, inplace=True)"
   ]
  },
  {
   "cell_type": "code",
   "execution_count": null,
   "metadata": {},
   "outputs": [],
   "source": [
    "display(strat_test_set.head())\n",
    "display(strat_train_set)"
   ]
  },
  {
   "cell_type": "code",
   "execution_count": null,
   "metadata": {},
   "outputs": [],
   "source": [
    "housing = strat_train_set.drop(\"median_house_value\", axis=1)\n",
    "housing_labels = strat_train_set[\"median_house_value\"].copy()"
   ]
  },
  {
   "cell_type": "code",
   "execution_count": null,
   "metadata": {
    "scrolled": false
   },
   "outputs": [],
   "source": [
    "housing.plot(kind='scatter', x=\"longitude\", y=\"latitude\",\n",
    "             alpha=0.4, s=housing['population']/100, label='population', \n",
    "             c=\"median_house_value\", cmap=plt.get_cmap(\"jet\"), colorbar=True, figsize=(10,7))\n",
    "plt.legend()"
   ]
  },
  {
   "cell_type": "code",
   "execution_count": null,
   "metadata": {},
   "outputs": [],
   "source": [
    "corr_matrix = housing.corr()\n",
    "corr_matrix"
   ]
  },
  {
   "cell_type": "code",
   "execution_count": null,
   "metadata": {},
   "outputs": [],
   "source": [
    "corr_matrix[\"median_house_value\"].sort_values(ascending=False)"
   ]
  },
  {
   "cell_type": "code",
   "execution_count": null,
   "metadata": {},
   "outputs": [],
   "source": [
    "from pandas.plotting import scatter_matrix\n",
    "\n",
    "attributes = [\"median_house_value\", \"median_income\", \"total_rooms\",\n",
    "              \"housing_median_age\"]\n",
    "scatter_matrix(housing[attributes], figsize=(15, 15))\n",
    "#sns.pairplot(housing[attributes], size=6)\n",
    "#plt.tight_layout()"
   ]
  },
  {
   "cell_type": "code",
   "execution_count": null,
   "metadata": {},
   "outputs": [],
   "source": [
    "sns.jointplot(x='median_income',y='median_house_value', data=housing, alpha=0.1)"
   ]
  },
  {
   "cell_type": "code",
   "execution_count": null,
   "metadata": {},
   "outputs": [],
   "source": [
    "housing['rooms_per_household'] = housing['total_rooms']/housing['households']\n",
    "housing['bedrooms_per_room'] = housing['total_bedrooms']/housing['total_rooms']\n",
    "housing['population_per_household'] = housing['population']/housing['households']"
   ]
  },
  {
   "cell_type": "code",
   "execution_count": null,
   "metadata": {},
   "outputs": [],
   "source": [
    "corr_matrix = housing.corr()\n",
    "corr_matrix['median_house_value'].sort_values(ascending=False)\n"
   ]
  },
  {
   "cell_type": "markdown",
   "metadata": {},
   "source": [
    "### Data cleaning"
   ]
  },
  {
   "cell_type": "code",
   "execution_count": null,
   "metadata": {},
   "outputs": [],
   "source": [
    "#housing.dropna(subset=['total_bedrooms']) \n",
    "#housing.drop('total_bedrooms', axis=1, inplace=True)\n",
    "total_bedrooms_median = housing['total_bedrooms'].median()\n",
    "housing['total_bedrooms'].fillna(total_bedrooms_median, inplace=True)"
   ]
  },
  {
   "cell_type": "code",
   "execution_count": null,
   "metadata": {
    "scrolled": true
   },
   "outputs": [],
   "source": [
    "housing['total_bedrooms'].value_counts()"
   ]
  },
  {
   "cell_type": "code",
   "execution_count": null,
   "metadata": {},
   "outputs": [],
   "source": [
    "from sklearn.preprocessing import Imputer"
   ]
  },
  {
   "cell_type": "code",
   "execution_count": null,
   "metadata": {},
   "outputs": [],
   "source": [
    "housing_num = housing.drop('ocean_proximity', axis=1)"
   ]
  },
  {
   "cell_type": "code",
   "execution_count": null,
   "metadata": {},
   "outputs": [],
   "source": [
    "imputer = Imputer(strategy='median')\n",
    "imputer.fit(housing_num)\n",
    "imputer.statistics_"
   ]
  },
  {
   "cell_type": "code",
   "execution_count": null,
   "metadata": {},
   "outputs": [],
   "source": [
    "housing_num.median()"
   ]
  },
  {
   "cell_type": "code",
   "execution_count": null,
   "metadata": {
    "scrolled": true
   },
   "outputs": [],
   "source": [
    "X = imputer.transform(housing_num)\n",
    "housing_tr = pd.DataFrame(X, columns=housing_num.columns)\n",
    "housing_tr.head()\n"
   ]
  },
  {
   "cell_type": "code",
   "execution_count": null,
   "metadata": {},
   "outputs": [],
   "source": [
    "housing_cat = housing['ocean_proximity']\n",
    "display(housing_cat.head(10))\n",
    "housing_cat_encoded, housing_categories = housing_cat.factorize()\n",
    "housing_cat_encoded[:10]\n",
    "housing['ocean_proximity'] = housing_cat_encoded"
   ]
  },
  {
   "cell_type": "code",
   "execution_count": null,
   "metadata": {},
   "outputs": [],
   "source": [
    "housing_categories[:10]"
   ]
  },
  {
   "cell_type": "code",
   "execution_count": null,
   "metadata": {},
   "outputs": [],
   "source": [
    "from sklearn.preprocessing import OneHotEncoder"
   ]
  },
  {
   "cell_type": "code",
   "execution_count": null,
   "metadata": {},
   "outputs": [],
   "source": [
    "one_hot = OneHotEncoder()\n",
    "housing_cat_1hot = one_hot.fit_transform(housing_cat_encoded.reshape(-1, 1))\n",
    "housing_cat_1hot"
   ]
  },
  {
   "cell_type": "code",
   "execution_count": null,
   "metadata": {},
   "outputs": [],
   "source": [
    "housing_cat_1hot.toarray()"
   ]
  },
  {
   "cell_type": "markdown",
   "metadata": {},
   "source": [
    "### Creating Pipeline"
   ]
  },
  {
   "cell_type": "code",
   "execution_count": 8,
   "metadata": {},
   "outputs": [],
   "source": [
    "from sklearn.pipeline import Pipeline\n",
    "from sklearn.preprocessing import StandardScaler, OneHotEncoder #, CategoricalEncoder\n",
    "from sklearn.base import BaseEstimator, TransformerMixin\n",
    "from sklearn.preprocessing import Imputer"
   ]
  },
  {
   "cell_type": "code",
   "execution_count": 9,
   "metadata": {},
   "outputs": [],
   "source": [
    "class DataFrameSelector(BaseEstimator, TransformerMixin):\n",
    "    def __init__(self, attribute_names):\n",
    "        self.attribute_names = attribute_names\n",
    "    def fit(self, X, y=None):\n",
    "        return self\n",
    "    def transform(self, X):\n",
    "        return X[self.attribute_names].values        "
   ]
  },
  {
   "cell_type": "code",
   "execution_count": 116,
   "metadata": {},
   "outputs": [],
   "source": [
    "housing_data = load_housing_data()"
   ]
  },
  {
   "cell_type": "code",
   "execution_count": 117,
   "metadata": {},
   "outputs": [],
   "source": [
    "housing_num = housing_data.drop('ocean_proximity', axis=1)\n",
    "housing_cat = housing_data['ocean_proximity']\n",
    "housing_cat_encoded, housing_categories = housing_cat.factorize() #pd.get_dummies(housing_cat)\n",
    "housing_data['ocean_proximity'] = housing_cat_encoded\n",
    "\n",
    "\n",
    "housing_data['income_cat'] = np.ceil(housing_data[\"median_income\"] / 1.5)\n",
    "housing_data['income_cat'].where(housing_data['income_cat']<5, 5.0, inplace=True)\n",
    "\n",
    "split = StratifiedShuffleSplit(n_splits=1, test_size=0.2, random_state=5)\n",
    "for train_index, test_index in split.split(housing_data, housing_data['income_cat']):\n",
    "    strat_train_set = housing_data.loc[train_index]\n",
    "    strat_test_set = housing_data.loc[test_index]\n",
    "    \n",
    "### remove 'income_cat' so that data is back to normal after split\n",
    "for set_ in (strat_train_set, strat_test_set):\n",
    "    set_.drop('income_cat', axis=1, inplace=True)\n",
    "    \n",
    "housing_train = strat_train_set.drop(\"median_house_value\", axis=1)\n",
    "housing_train_labels = strat_train_set[\"median_house_value\"].copy()\n",
    "\n",
    "housing_test = strat_test_set.drop(\"median_house_value\", axis=1)\n",
    "housing_test_labels = strat_test_set[\"median_house_value\"].copy()\n",
    "\n",
    "\n",
    "num_attribs = list(housing_train) # list of all columns in df\n",
    "cat_attribs = ['ocean_proximity']"
   ]
  },
  {
   "cell_type": "code",
   "execution_count": 118,
   "metadata": {},
   "outputs": [],
   "source": [
    "num_pipeline = Pipeline([\n",
    "    ('selector', DataFrameSelector(num_attribs)),\n",
    "    ('imputer', Imputer(strategy=\"median\")),\n",
    "    ('std_scaler', StandardScaler())\n",
    "])\n",
    "cat_pipeline = Pipeline([\n",
    "    ('selector', DataFrameSelector(cat_attribs)),\n",
    "#    ('lbl_encoder', LabelEncoder()),\n",
    "    ('1hot_encoder', OneHotEncoder()) # use CategoricalEncoder when available\n",
    "])"
   ]
  },
  {
   "cell_type": "code",
   "execution_count": 119,
   "metadata": {},
   "outputs": [],
   "source": [
    "from sklearn.pipeline import FeatureUnion"
   ]
  },
  {
   "cell_type": "code",
   "execution_count": 120,
   "metadata": {},
   "outputs": [],
   "source": [
    "full_pipeline = FeatureUnion(transformer_list=[('num_pipeline', num_pipeline),\n",
    "                                               ('cat_pipeline', cat_pipeline)\n",
    "                                              ]\n",
    "                            )"
   ]
  },
  {
   "cell_type": "code",
   "execution_count": 121,
   "metadata": {
    "scrolled": true
   },
   "outputs": [
    {
     "data": {
      "text/plain": [
       "<16512x14 sparse matrix of type '<class 'numpy.float64'>'\n",
       "\twith 165120 stored elements in Compressed Sparse Row format>"
      ]
     },
     "execution_count": 121,
     "metadata": {},
     "output_type": "execute_result"
    }
   ],
   "source": [
    "housing_prepared = full_pipeline.fit_transform(housing_train)\n",
    "housing_prepared"
   ]
  },
  {
   "cell_type": "code",
   "execution_count": 122,
   "metadata": {},
   "outputs": [
    {
     "data": {
      "text/plain": [
       "(16512, 14)"
      ]
     },
     "metadata": {},
     "output_type": "display_data"
    },
    {
     "data": {
      "text/plain": [
       "(16512, 9)"
      ]
     },
     "execution_count": 122,
     "metadata": {},
     "output_type": "execute_result"
    }
   ],
   "source": [
    "display(housing_prepared.toarray().shape)\n",
    "housing.shape"
   ]
  },
  {
   "cell_type": "code",
   "execution_count": 123,
   "metadata": {},
   "outputs": [],
   "source": [
    "from sklearn.linear_model import LinearRegression\n",
    "from sklearn.metrics import mean_squared_error, r2_score"
   ]
  },
  {
   "cell_type": "code",
   "execution_count": 124,
   "metadata": {},
   "outputs": [
    {
     "name": "stdout",
     "output_type": "stream",
     "text": [
      "67447.7274144\n"
     ]
    },
    {
     "data": {
      "text/plain": [
       "0.65625230384905531"
      ]
     },
     "execution_count": 124,
     "metadata": {},
     "output_type": "execute_result"
    }
   ],
   "source": [
    "lin_reg = LinearRegression()\n",
    "lin_reg.fit(housing_prepared, housing_train_labels)\n",
    "housing_test_prepared = full_pipeline.transform(housing_test)\n",
    "y_pred = lin_reg.predict(housing_test_prepared)\n",
    "print(np.sqrt(mean_squared_error(housing_test_labels, y_pred)))\n",
    "r2_score(housing_test_labels, y_pred)"
   ]
  },
  {
   "cell_type": "code",
   "execution_count": 125,
   "metadata": {},
   "outputs": [],
   "source": [
    "from sklearn.tree import DecisionTreeRegressor"
   ]
  },
  {
   "cell_type": "code",
   "execution_count": 126,
   "metadata": {},
   "outputs": [
    {
     "name": "stdout",
     "output_type": "stream",
     "text": [
      "67514.8691281\n"
     ]
    },
    {
     "data": {
      "text/plain": [
       "0.65556758702200368"
      ]
     },
     "execution_count": 126,
     "metadata": {},
     "output_type": "execute_result"
    }
   ],
   "source": [
    "tree_reg = DecisionTreeRegressor()\n",
    "tree_reg.fit(housing_prepared, housing_train_labels)\n",
    "y_pred = tree_reg.predict(housing_test_prepared)\n",
    "print(np.sqrt(mean_squared_error(housing_test_labels, y_pred)))\n",
    "r2_score(housing_test_labels, y_pred)"
   ]
  },
  {
   "cell_type": "code",
   "execution_count": 127,
   "metadata": {},
   "outputs": [],
   "source": [
    "from sklearn.model_selection import cross_val_score"
   ]
  },
  {
   "cell_type": "code",
   "execution_count": 128,
   "metadata": {},
   "outputs": [],
   "source": [
    "scores = cross_val_score(tree_reg, housing_prepared, housing__train_labels, scoring='neg_mean_squared_error', cv=5)\n",
    "tree_rmse_scores = np.sqrt(-scores)"
   ]
  },
  {
   "cell_type": "code",
   "execution_count": 129,
   "metadata": {},
   "outputs": [],
   "source": [
    "def display_scores(scores):\n",
    "    print(\"Scores\", scores)\n",
    "    print(\"Mean\", scores.mean())\n",
    "    print(\"Std Dev\", scores.std())"
   ]
  },
  {
   "cell_type": "code",
   "execution_count": 130,
   "metadata": {},
   "outputs": [
    {
     "name": "stdout",
     "output_type": "stream",
     "text": [
      "Scores [ 67662.52005466  67446.00483985  71200.2531181   70255.09568362\n",
      "  67625.60511713]\n",
      "Mean 68837.8957627\n",
      "Std Dev 1573.38519733\n"
     ]
    }
   ],
   "source": [
    "display_scores(tree_rmse_scores)"
   ]
  },
  {
   "cell_type": "code",
   "execution_count": 131,
   "metadata": {},
   "outputs": [],
   "source": [
    "from sklearn.ensemble import RandomForestRegressor"
   ]
  },
  {
   "cell_type": "code",
   "execution_count": 132,
   "metadata": {
    "scrolled": true
   },
   "outputs": [
    {
     "name": "stdout",
     "output_type": "stream",
     "text": [
      "51705.1410001\n",
      "0.797990121483\n",
      "Scores [ 51486.53194986  51744.9725849   52462.39455811  50872.77569172\n",
      "  50057.63184948]\n",
      "Mean 51324.8613268\n",
      "Std Dev 813.248385367\n"
     ]
    }
   ],
   "source": [
    "f_reg = RandomForestRegressor()\n",
    "f_reg.fit(housing_prepared, housing__train_labels)\n",
    "y_pred = f_reg.predict(housing_test_prepared)\n",
    "print(np.sqrt(mean_squared_error(housing_test_labels, y_pred)))\n",
    "print(r2_score(housing_test_labels, y_pred))\n",
    "scores = cross_val_score(f_reg, housing_prepared, housing__train_labels, scoring='neg_mean_squared_error', cv=5)\n",
    "tree_rmse_scores = np.sqrt(-scores)\n",
    "display_scores(tree_rmse_scores)"
   ]
  },
  {
   "cell_type": "code",
   "execution_count": 133,
   "metadata": {},
   "outputs": [],
   "source": [
    "from sklearn.model_selection import GridSearchCV"
   ]
  },
  {
   "cell_type": "code",
   "execution_count": 134,
   "metadata": {},
   "outputs": [
    {
     "data": {
      "text/plain": [
       "GridSearchCV(cv=5, error_score='raise',\n",
       "       estimator=RandomForestRegressor(bootstrap=True, criterion='mse', max_depth=None,\n",
       "           max_features='auto', max_leaf_nodes=None,\n",
       "           min_impurity_decrease=0.0, min_impurity_split=None,\n",
       "           min_samples_leaf=1, min_samples_split=2,\n",
       "           min_weight_fraction_leaf=0.0, n_estimators=10, n_jobs=1,\n",
       "           oob_score=False, random_state=None, verbose=0, warm_start=False),\n",
       "       fit_params=None, iid=True, n_jobs=1,\n",
       "       param_grid=[{'n_estimators': [3, 10, 30], 'max_features': [2, 4, 6, 8]}, {'bootstrap': [False], 'n_estimators': [3, 10], 'max_features': [2, 3, 4]}],\n",
       "       pre_dispatch='2*n_jobs', refit=True, return_train_score='warn',\n",
       "       scoring='neg_mean_squared_error', verbose=0)"
      ]
     },
     "execution_count": 134,
     "metadata": {},
     "output_type": "execute_result"
    }
   ],
   "source": [
    "param_grid = [\n",
    "    {'n_estimators':[3, 10, 30], 'max_features': [2, 4, 6, 8]},\n",
    "    {'bootstrap':[False], 'n_estimators':[3, 10], 'max_features':[2, 3, 4]}    \n",
    "]\n",
    "\n",
    "f_reg = RandomForestRegressor()\n",
    "grid_search = GridSearchCV(f_reg, param_grid, cv=5, scoring='neg_mean_squared_error')\n",
    "grid_search.fit(housing_prepared, housing__train_labels)"
   ]
  },
  {
   "cell_type": "code",
   "execution_count": 135,
   "metadata": {},
   "outputs": [
    {
     "data": {
      "text/plain": [
       "{'max_features': 8, 'n_estimators': 30}"
      ]
     },
     "metadata": {},
     "output_type": "display_data"
    },
    {
     "data": {
      "text/plain": [
       "RandomForestRegressor(bootstrap=True, criterion='mse', max_depth=None,\n",
       "           max_features=8, max_leaf_nodes=None, min_impurity_decrease=0.0,\n",
       "           min_impurity_split=None, min_samples_leaf=1,\n",
       "           min_samples_split=2, min_weight_fraction_leaf=0.0,\n",
       "           n_estimators=30, n_jobs=1, oob_score=False, random_state=None,\n",
       "           verbose=0, warm_start=False)"
      ]
     },
     "metadata": {},
     "output_type": "display_data"
    },
    {
     "name": "stderr",
     "output_type": "stream",
     "text": [
      "/home/suri/.virtualenvs/dl-py3/lib/python3.5/site-packages/sklearn/utils/deprecation.py:122: FutureWarning: You are accessing a training score ('mean_train_score'), which will not be available by default any more in 0.21. If you need training scores, please set return_train_score=True\n",
      "  warnings.warn(*warn_args, **warn_kwargs)\n",
      "/home/suri/.virtualenvs/dl-py3/lib/python3.5/site-packages/sklearn/utils/deprecation.py:122: FutureWarning: You are accessing a training score ('split0_train_score'), which will not be available by default any more in 0.21. If you need training scores, please set return_train_score=True\n",
      "  warnings.warn(*warn_args, **warn_kwargs)\n",
      "/home/suri/.virtualenvs/dl-py3/lib/python3.5/site-packages/sklearn/utils/deprecation.py:122: FutureWarning: You are accessing a training score ('split1_train_score'), which will not be available by default any more in 0.21. If you need training scores, please set return_train_score=True\n",
      "  warnings.warn(*warn_args, **warn_kwargs)\n",
      "/home/suri/.virtualenvs/dl-py3/lib/python3.5/site-packages/sklearn/utils/deprecation.py:122: FutureWarning: You are accessing a training score ('split2_train_score'), which will not be available by default any more in 0.21. If you need training scores, please set return_train_score=True\n",
      "  warnings.warn(*warn_args, **warn_kwargs)\n",
      "/home/suri/.virtualenvs/dl-py3/lib/python3.5/site-packages/sklearn/utils/deprecation.py:122: FutureWarning: You are accessing a training score ('split3_train_score'), which will not be available by default any more in 0.21. If you need training scores, please set return_train_score=True\n",
      "  warnings.warn(*warn_args, **warn_kwargs)\n",
      "/home/suri/.virtualenvs/dl-py3/lib/python3.5/site-packages/sklearn/utils/deprecation.py:122: FutureWarning: You are accessing a training score ('split4_train_score'), which will not be available by default any more in 0.21. If you need training scores, please set return_train_score=True\n",
      "  warnings.warn(*warn_args, **warn_kwargs)\n",
      "/home/suri/.virtualenvs/dl-py3/lib/python3.5/site-packages/sklearn/utils/deprecation.py:122: FutureWarning: You are accessing a training score ('std_train_score'), which will not be available by default any more in 0.21. If you need training scores, please set return_train_score=True\n",
      "  warnings.warn(*warn_args, **warn_kwargs)\n"
     ]
    },
    {
     "data": {
      "text/plain": [
       "{'mean_fit_time': array([ 0.37136083,  1.22466235,  3.67439518,  0.53308239,  1.77266188,\n",
       "         5.28737679,  0.71534271,  2.38833551,  7.14256415,  0.90587072,\n",
       "         3.00745168,  8.97597623,  0.56907997,  1.88338137,  0.67855692,\n",
       "         2.26353121,  0.821491  ,  2.73198094]),\n",
       " 'mean_score_time': array([ 0.00320969,  0.00819597,  0.02212682,  0.00323858,  0.00817456,\n",
       "         0.02214737,  0.00324497,  0.00819292,  0.02210178,  0.00324802,\n",
       "         0.00818348,  0.0215107 ,  0.00345488,  0.00894303,  0.00344782,\n",
       "         0.00887966,  0.00344248,  0.00895572]),\n",
       " 'mean_test_score': array([ -3.89032876e+09,  -2.98411236e+09,  -2.73266892e+09,\n",
       "         -3.66557054e+09,  -2.81139779e+09,  -2.55667607e+09,\n",
       "         -3.48650152e+09,  -2.72773634e+09,  -2.51508430e+09,\n",
       "         -3.45308557e+09,  -2.70553366e+09,  -2.48920777e+09,\n",
       "         -3.73493771e+09,  -2.94584884e+09,  -3.58112484e+09,\n",
       "         -2.75413376e+09,  -3.43264612e+09,  -2.68714392e+09]),\n",
       " 'mean_train_score': array([ -1.07407102e+09,  -5.65154454e+08,  -4.26688776e+08,\n",
       "         -9.59322411e+08,  -5.12897775e+08,  -3.95215717e+08,\n",
       "         -9.25954762e+08,  -4.93334690e+08,  -3.84163304e+08,\n",
       "         -8.94484477e+08,  -4.83389629e+08,  -3.73207054e+08,\n",
       "         -6.30839508e+02,  -2.18200572e+02,  -1.02615863e+01,\n",
       "         -4.39153797e+01,   0.00000000e+00,  -1.28700129e+00]),\n",
       " 'param_bootstrap': masked_array(data = [-- -- -- -- -- -- -- -- -- -- -- -- False False False False False False],\n",
       "              mask = [ True  True  True  True  True  True  True  True  True  True  True  True\n",
       "  False False False False False False],\n",
       "        fill_value = ?),\n",
       " 'param_max_features': masked_array(data = [2 2 2 4 4 4 6 6 6 8 8 8 2 2 3 3 4 4],\n",
       "              mask = [False False False False False False False False False False False False\n",
       "  False False False False False False],\n",
       "        fill_value = ?),\n",
       " 'param_n_estimators': masked_array(data = [3 10 30 3 10 30 3 10 30 3 10 30 3 10 3 10 3 10],\n",
       "              mask = [False False False False False False False False False False False False\n",
       "  False False False False False False],\n",
       "        fill_value = ?),\n",
       " 'params': [{'max_features': 2, 'n_estimators': 3},\n",
       "  {'max_features': 2, 'n_estimators': 10},\n",
       "  {'max_features': 2, 'n_estimators': 30},\n",
       "  {'max_features': 4, 'n_estimators': 3},\n",
       "  {'max_features': 4, 'n_estimators': 10},\n",
       "  {'max_features': 4, 'n_estimators': 30},\n",
       "  {'max_features': 6, 'n_estimators': 3},\n",
       "  {'max_features': 6, 'n_estimators': 10},\n",
       "  {'max_features': 6, 'n_estimators': 30},\n",
       "  {'max_features': 8, 'n_estimators': 3},\n",
       "  {'max_features': 8, 'n_estimators': 10},\n",
       "  {'max_features': 8, 'n_estimators': 30},\n",
       "  {'bootstrap': False, 'max_features': 2, 'n_estimators': 3},\n",
       "  {'bootstrap': False, 'max_features': 2, 'n_estimators': 10},\n",
       "  {'bootstrap': False, 'max_features': 3, 'n_estimators': 3},\n",
       "  {'bootstrap': False, 'max_features': 3, 'n_estimators': 10},\n",
       "  {'bootstrap': False, 'max_features': 4, 'n_estimators': 3},\n",
       "  {'bootstrap': False, 'max_features': 4, 'n_estimators': 10}],\n",
       " 'rank_test_score': array([18, 11,  7, 16,  9,  3, 14,  6,  2, 13,  5,  1, 17, 10, 15,  8, 12,\n",
       "         4], dtype=int32),\n",
       " 'split0_test_score': array([ -3.68332223e+09,  -2.94354899e+09,  -2.64857338e+09,\n",
       "         -3.75466451e+09,  -2.83553048e+09,  -2.48792392e+09,\n",
       "         -3.63970975e+09,  -2.64762777e+09,  -2.51242785e+09,\n",
       "         -3.45944281e+09,  -2.67016353e+09,  -2.51110007e+09,\n",
       "         -3.94502263e+09,  -2.95418216e+09,  -3.61752654e+09,\n",
       "         -2.70684870e+09,  -3.44805266e+09,  -2.65493138e+09]),\n",
       " 'split0_train_score': array([ -1.01192109e+09,  -5.69137819e+08,  -4.20676967e+08,\n",
       "         -9.21658008e+08,  -5.10905060e+08,  -3.89054211e+08,\n",
       "         -9.28118880e+08,  -4.88674799e+08,  -3.89440126e+08,\n",
       "         -8.54096704e+08,  -4.85219526e+08,  -3.74699261e+08,\n",
       "         -2.82803812e+02,  -9.47066394e+02,  -0.00000000e+00,\n",
       "         -0.00000000e+00,  -0.00000000e+00,  -6.05647664e+00]),\n",
       " 'split1_test_score': array([ -3.83602650e+09,  -3.09621017e+09,  -2.84687599e+09,\n",
       "         -3.62802945e+09,  -2.92995037e+09,  -2.68825282e+09,\n",
       "         -3.32193649e+09,  -2.76951957e+09,  -2.62319181e+09,\n",
       "         -3.42706669e+09,  -2.73019693e+09,  -2.63271504e+09,\n",
       "         -3.69534641e+09,  -2.90327836e+09,  -3.68352568e+09,\n",
       "         -2.81253444e+09,  -3.56680107e+09,  -2.78169564e+09]),\n",
       " 'split1_train_score': array([ -1.08477673e+09,  -5.51722378e+08,  -4.29932259e+08,\n",
       "         -9.17164970e+08,  -5.14966607e+08,  -3.97460818e+08,\n",
       "         -8.75136157e+08,  -4.81746424e+08,  -3.79502813e+08,\n",
       "         -8.62848019e+08,  -4.81284792e+08,  -3.66171005e+08,\n",
       "         -0.00000000e+00,  -7.41918389e-01,  -0.00000000e+00,\n",
       "         -2.10825952e+02,  -0.00000000e+00,  -3.78529790e-01]),\n",
       " 'split2_test_score': array([ -4.33845062e+09,  -3.06181015e+09,  -2.94054007e+09,\n",
       "         -3.74777188e+09,  -2.97345503e+09,  -2.69026762e+09,\n",
       "         -3.60531110e+09,  -3.01656203e+09,  -2.64166429e+09,\n",
       "         -3.55993213e+09,  -2.86335589e+09,  -2.59130997e+09,\n",
       "         -3.91442006e+09,  -3.13601954e+09,  -3.65187221e+09,\n",
       "         -2.93889962e+09,  -3.52239690e+09,  -2.82229618e+09]),\n",
       " 'split2_train_score': array([ -1.07389543e+09,  -5.47202169e+08,  -4.22169470e+08,\n",
       "         -9.87756616e+08,  -5.19176484e+08,  -3.96403036e+08,\n",
       "         -9.42867558e+08,  -4.94526933e+08,  -3.79919627e+08,\n",
       "         -9.00272953e+08,  -4.78485434e+08,  -3.69248276e+08,\n",
       "         -2.42913618e+02,  -0.00000000e+00,  -5.13079317e+01,\n",
       "         -7.41862226e-01,  -0.00000000e+00,  -0.00000000e+00]),\n",
       " 'split3_test_score': array([ -3.89898772e+09,  -2.99562080e+09,  -2.68083683e+09,\n",
       "         -3.49567883e+09,  -2.70850444e+09,  -2.51018903e+09,\n",
       "         -3.63530521e+09,  -2.58926038e+09,  -2.42411175e+09,\n",
       "         -3.42927185e+09,  -2.76049874e+09,  -2.40266362e+09,\n",
       "         -3.54472653e+09,  -2.84569005e+09,  -3.40650509e+09,\n",
       "         -2.71568342e+09,  -3.35106675e+09,  -2.63130727e+09]),\n",
       " 'split3_train_score': array([ -1.08948600e+09,  -5.68690105e+08,  -4.33824311e+08,\n",
       "         -9.86451399e+08,  -5.01614333e+08,  -3.94304246e+08,\n",
       "         -9.55954454e+08,  -4.86227550e+08,  -3.90205561e+08,\n",
       "         -9.39797001e+08,  -4.85176232e+08,  -3.81756202e+08,\n",
       "         -0.00000000e+00,  -7.41862226e-01,  -0.00000000e+00,\n",
       "         -8.00908403e+00,  -0.00000000e+00,  -0.00000000e+00]),\n",
       " 'split4_test_score': array([ -3.69493586e+09,  -2.82335005e+09,  -2.54650922e+09,\n",
       "         -3.70169240e+09,  -2.60950541e+09,  -2.40672795e+09,\n",
       "         -3.23024851e+09,  -2.61572357e+09,  -2.37399387e+09,\n",
       "         -3.38972031e+09,  -2.50345644e+09,  -2.30820004e+09,\n",
       "         -3.57512127e+09,  -2.89008449e+09,  -3.54615265e+09,\n",
       "         -2.59669926e+09,  -3.27486790e+09,  -2.54547024e+09]),\n",
       " 'split4_train_score': array([ -1.11027584e+09,  -5.89019801e+08,  -4.26840875e+08,\n",
       "         -9.83581062e+08,  -5.17826392e+08,  -3.98856274e+08,\n",
       "         -9.27696761e+08,  -5.15497742e+08,  -3.81748393e+08,\n",
       "         -9.15407708e+08,  -4.86782158e+08,  -3.74160529e+08,\n",
       "         -2.62848011e+03,  -1.42452687e+02,  -0.00000000e+00,\n",
       "         -0.00000000e+00,  -0.00000000e+00,  -0.00000000e+00]),\n",
       " 'std_fit_time': array([ 0.00205684,  0.00516872,  0.00687336,  0.0053109 ,  0.00498966,\n",
       "         0.01973316,  0.00934109,  0.00552834,  0.03003526,  0.01198604,\n",
       "         0.01917295,  0.04446867,  0.00721497,  0.00438828,  0.00911792,\n",
       "         0.01025845,  0.01141552,  0.01768015]),\n",
       " 'std_score_time': array([  1.41473655e-05,   3.95440339e-05,   3.08693048e-05,\n",
       "          1.74235541e-05,   3.59908146e-05,   1.00593136e-04,\n",
       "          1.40465576e-05,   4.10552640e-05,   4.52620200e-05,\n",
       "          1.91931547e-05,   3.12038826e-05,   2.43589946e-04,\n",
       "          1.53341518e-05,   4.46672992e-05,   2.02070963e-05,\n",
       "          2.04634821e-05,   1.00106280e-05,   6.47858346e-05]),\n",
       " 'std_test_score': array([  2.38682368e+08,   9.61497997e+07,   1.41888426e+08,\n",
       "          9.61970241e+07,   1.35823770e+08,   1.13604880e+08,\n",
       "          1.74628239e+08,   1.57030879e+08,   1.05731800e+08,\n",
       "          5.78169986e+07,   1.18840692e+08,   1.19791358e+08,\n",
       "          1.67114075e+08,   1.01175491e+08,   9.85180320e+07,\n",
       "          1.14928412e+08,   1.07552583e+08,   1.01419685e+08]),\n",
       " 'std_train_score': array([  3.32435499e+07,   1.48366305e+07,   4.85850068e+06,\n",
       "          3.26460571e+07,   6.31316891e+06,   3.42049091e+06,\n",
       "          2.74818951e+07,   1.18248572e+07,   4.68859227e+06,\n",
       "          3.21140174e+07,   3.05061298e+06,   5.31792491e+06,\n",
       "          1.00579325e+03,   3.68556963e+02,   2.05231727e+01,\n",
       "          8.35098497e+01,   0.00000000e+00,   2.38923974e+00])}"
      ]
     },
     "metadata": {},
     "output_type": "display_data"
    },
    {
     "data": {
      "text/plain": [
       "[(0.42197708677954288, 'median_income'),\n",
       " (0.15028956808435334, 'INLAND'),\n",
       " (0.1172799158018596, 'longitude'),\n",
       " (0.10420634884124597, 'latitude'),\n",
       " (0.048902345869361499, 'housing_median_age'),\n",
       " (0.0363903056345493, 'population'),\n",
       " (0.03292631207099618, 'ocean_proximity'),\n",
       " (0.029373164067270842, 'total_rooms'),\n",
       " (0.027143600944322298, 'total_bedrooms'),\n",
       " (0.024919775055763014, 'households'),\n",
       " (0.0029184553452584945, 'NEAR OCEAN'),\n",
       " (0.0025123173584525684, '<1H OCEAN'),\n",
       " (0.0011087565410971419, 'NEAR BAY'),\n",
       " (5.2047605926778863e-05, 'ISLAND')]"
      ]
     },
     "execution_count": 135,
     "metadata": {},
     "output_type": "execute_result"
    }
   ],
   "source": [
    "display(grid_search.best_params_)\n",
    "display(grid_search.best_estimator_)\n",
    "display(grid_search.cv_results_)\n",
    "feature_importances = grid_search.best_estimator_.feature_importances_\n",
    "attributes = list(num_attribs) + list(housing_categories)\n",
    "sorted(zip(feature_importances, attributes), reverse=True)"
   ]
  },
  {
   "cell_type": "markdown",
   "metadata": {},
   "source": [
    "### Import library to save model"
   ]
  },
  {
   "cell_type": "code",
   "execution_count": 68,
   "metadata": {},
   "outputs": [],
   "source": [
    "from sklearn.externals import joblib"
   ]
  },
  {
   "cell_type": "markdown",
   "metadata": {},
   "source": [
    "### Save Model"
   ]
  },
  {
   "cell_type": "code",
   "execution_count": 69,
   "metadata": {
    "scrolled": true
   },
   "outputs": [
    {
     "data": {
      "text/plain": [
       "['my_model.pkl']"
      ]
     },
     "execution_count": 69,
     "metadata": {},
     "output_type": "execute_result"
    }
   ],
   "source": [
    "joblib.dump(f_reg, \"my_model.pkl\")"
   ]
  },
  {
   "cell_type": "markdown",
   "metadata": {},
   "source": [
    "### Restore Model"
   ]
  },
  {
   "cell_type": "code",
   "execution_count": 70,
   "metadata": {},
   "outputs": [],
   "source": [
    "my_model_restored = joblib.load(\"my_model.pkl\")"
   ]
  }
 ],
 "metadata": {
  "kernelspec": {
   "display_name": "Python 3",
   "language": "python",
   "name": "python3"
  },
  "language_info": {
   "codemirror_mode": {
    "name": "ipython",
    "version": 3
   },
   "file_extension": ".py",
   "mimetype": "text/x-python",
   "name": "python",
   "nbconvert_exporter": "python",
   "pygments_lexer": "ipython3",
   "version": "3.5.2"
  }
 },
 "nbformat": 4,
 "nbformat_minor": 2
}
